{
 "cells": [
  {
   "cell_type": "code",
   "id": "initial_id",
   "metadata": {
    "collapsed": true,
    "ExecuteTime": {
     "end_time": "2024-08-12T10:28:37.343598Z",
     "start_time": "2024-08-12T10:28:37.212538Z"
    }
   },
   "source": "import numpy as np",
   "outputs": [],
   "execution_count": 1
  },
  {
   "metadata": {},
   "cell_type": "markdown",
   "source": "## Náhodné body",
   "id": "5612b095e2e9b4c1"
  },
  {
   "metadata": {
    "ExecuteTime": {
     "end_time": "2024-08-12T10:28:41.298010Z",
     "start_time": "2024-08-12T10:28:41.235268Z"
    }
   },
   "cell_type": "code",
   "source": [
    "# Počet náhodných bodů\n",
    "num_samples = 1000000\n",
    "\n",
    "# Generování náhodných bodů v jednotkovém čtverci\n",
    "x = np.random.uniform(-1, 1, num_samples)\n",
    "y = np.random.uniform(-1, 1, num_samples)\n",
    "\n",
    "# Určení bodů uvnitř jednotkového kruhu\n",
    "inside_circle = x**2 + y**2 <= 1"
   ],
   "id": "40dfda4245575637",
   "outputs": [],
   "execution_count": 2
  },
  {
   "metadata": {},
   "cell_type": "markdown",
   "source": "## Výpočet přibližné hodnoty pi",
   "id": "90fda20982ee016c"
  },
  {
   "metadata": {
    "ExecuteTime": {
     "end_time": "2024-08-12T10:29:12.106096Z",
     "start_time": "2024-08-12T10:29:12.101847Z"
    }
   },
   "cell_type": "code",
   "source": [
    "pi_estimate = 4 * np.sum(inside_circle) / num_samples\n",
    "\n",
    "print(f\"Odhadovaná hodnota pi: {pi_estimate}\")"
   ],
   "id": "f963b74debf665f6",
   "outputs": [
    {
     "name": "stdout",
     "output_type": "stream",
     "text": [
      "Odhadovaná hodnota pi: 3.142896\n"
     ]
    }
   ],
   "execution_count": 16
  }
 ],
 "metadata": {
  "kernelspec": {
   "display_name": "Python 3",
   "language": "python",
   "name": "python3"
  },
  "language_info": {
   "codemirror_mode": {
    "name": "ipython",
    "version": 2
   },
   "file_extension": ".py",
   "mimetype": "text/x-python",
   "name": "python",
   "nbconvert_exporter": "python",
   "pygments_lexer": "ipython2",
   "version": "2.7.6"
  }
 },
 "nbformat": 4,
 "nbformat_minor": 5
}

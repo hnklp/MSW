{
 "cells": [
  {
   "cell_type": "code",
   "id": "initial_id",
   "metadata": {
    "collapsed": true,
    "ExecuteTime": {
     "end_time": "2024-08-13T12:40:39.347860Z",
     "start_time": "2024-08-13T12:40:25.422464Z"
    }
   },
   "source": [
    "import time\n",
    "import numpy as np\n",
    "import math\n",
    "from scipy.optimize import approx_fprime"
   ],
   "outputs": [],
   "execution_count": 7
  },
  {
   "metadata": {},
   "cell_type": "markdown",
   "source": "## Definování funkcí",
   "id": "dfec1f987bb7b3cd"
  },
  {
   "metadata": {
    "ExecuteTime": {
     "end_time": "2024-08-13T12:54:48.850688Z",
     "start_time": "2024-08-13T12:54:48.838979Z"
    }
   },
   "cell_type": "code",
   "source": [
    "def f(x):\n",
    "    return x ** 2 - 4\n",
    "\n",
    "def g(x):\n",
    "    return x ** 3 - 2\n",
    "\n",
    "def h(x):\n",
    "    return x ** 2 - 9"
   ],
   "id": "47f1593e5ea722ed",
   "outputs": [],
   "execution_count": 15
  },
  {
   "metadata": {},
   "cell_type": "markdown",
   "source": "## Numerická derivace",
   "id": "53643575c7afb2d6"
  },
  {
   "metadata": {
    "ExecuteTime": {
     "end_time": "2024-08-13T12:40:46.090980Z",
     "start_time": "2024-08-13T12:40:46.086156Z"
    }
   },
   "cell_type": "code",
   "source": [
    "def numerical_derivative(func, x, epsilon=1e-8):\n",
    "    return approx_fprime([x], func, epsilon)[0]"
   ],
   "id": "817df129dc249743",
   "outputs": [],
   "execution_count": 9
  },
  {
   "metadata": {},
   "cell_type": "markdown",
   "source": "## Metoda bisekce",
   "id": "2576d4c301c81bdf"
  },
  {
   "metadata": {
    "ExecuteTime": {
     "end_time": "2024-08-13T12:40:47.785427Z",
     "start_time": "2024-08-13T12:40:47.780078Z"
    }
   },
   "cell_type": "code",
   "source": [
    "def bisection_method(func, a, b, tol):\n",
    "    start_time = time.perf_counter()\n",
    "    while (b - a) / 2 > tol:\n",
    "        c = (a + b) / 2\n",
    "        if func(c) == 0:\n",
    "            break\n",
    "        elif func(a) * func(c) < 0:\n",
    "            b = c\n",
    "        else:\n",
    "            a = c\n",
    "    end_time = time.perf_counter() - start_time\n",
    "    return c, end_time"
   ],
   "id": "50480ba1f5a11559",
   "outputs": [],
   "execution_count": 10
  },
  {
   "metadata": {},
   "cell_type": "markdown",
   "source": "## Newtonova metoda",
   "id": "a3707394a8e71ee2"
  },
  {
   "metadata": {
    "ExecuteTime": {
     "end_time": "2024-08-13T12:40:49.471866Z",
     "start_time": "2024-08-13T12:40:49.467989Z"
    }
   },
   "cell_type": "code",
   "source": [
    "def newton_method(func, x0, tol):\n",
    "    start_time = time.perf_counter()\n",
    "    x1 = x0 - func(x0) / numerical_derivative(func, x0)\n",
    "    while abs(x1 - x0) > tol:\n",
    "        x0 = x1\n",
    "        x1 = x0 - func(x0) / numerical_derivative(func, x0)\n",
    "    end_time = time.perf_counter() - start_time\n",
    "    return x1, end_time"
   ],
   "id": "4bf2fe58660ab3e1",
   "outputs": [],
   "execution_count": 11
  },
  {
   "metadata": {},
   "cell_type": "markdown",
   "source": "## Výpočet",
   "id": "fe41760ae3548261"
  },
  {
   "metadata": {
    "ExecuteTime": {
     "end_time": "2024-08-13T12:40:51.196053Z",
     "start_time": "2024-08-13T12:40:51.188976Z"
    }
   },
   "cell_type": "code",
   "source": [
    "def newton_method(func, x0, tol):\n",
    "    start_time = time.perf_counter()\n",
    "    x1 = x0 - func(x0) / numerical_derivative(func, x0)\n",
    "    while abs(x1 - x0) > tol:\n",
    "        x0 = x1\n",
    "        x1 = x0 - func(x0) / numerical_derivative(func, x0)\n",
    "    end_time = time.perf_counter() - start_time\n",
    "    return x1, end_time\n",
    "\n",
    "#vypocet\n",
    "def find_roots():\n",
    "    results = []\n",
    "    functions = [f, g, h]\n",
    "    intervals = [(-5, 5), (0, 2), (-3, 3)]\n",
    "    initial_guesses = [1, 1, 1]\n",
    "\n",
    "    for func, interval, guess in zip(functions, intervals, initial_guesses):\n",
    "        root_bisect, time_bisect = bisection_method(func, interval[0], interval[1], 1e-10)\n",
    "        root_newton, time_newton = newton_method(func, guess, 1e-10)\n",
    "        results.append((root_bisect, time_bisect, root_newton, time_newton))\n",
    "\n",
    "    return results"
   ],
   "id": "59af3958449c343b",
   "outputs": [],
   "execution_count": 12
  },
  {
   "metadata": {},
   "cell_type": "markdown",
   "source": "## Výsledky",
   "id": "1f10008c6d332517"
  },
  {
   "metadata": {
    "ExecuteTime": {
     "end_time": "2024-08-13T12:54:53.856275Z",
     "start_time": "2024-08-13T12:54:53.838159Z"
    }
   },
   "cell_type": "code",
   "source": [
    "def main():\n",
    "    roots = find_roots()\n",
    "    function_descriptions = [\n",
    "        \"f(x) = x ** 2 - 4\",\n",
    "        \"g(x) = x ** 3 - 2\",\n",
    "        \"h(x) = x ** 2 - 9\"\n",
    "    ]\n",
    "\n",
    "    for i, desc in enumerate(function_descriptions):\n",
    "        print(f\"Funkce {desc}\")\n",
    "        print(f\"Kořen nalezený pomocí metody půlení intervalu: {roots[i][0]:.25f}, čas: {roots[i][1]:.25f}s\")\n",
    "        print(f\"Kořen nalezený pomocí Newtonovy metody: {roots[i][2]:.25f}, čas: {roots[i][3]:.25f}s\\n\")\n",
    "\n",
    "\n",
    "if __name__ == \"__main__\":\n",
    "    main()"
   ],
   "id": "7538546f02fdd897",
   "outputs": [
    {
     "name": "stdout",
     "output_type": "stream",
     "text": [
      "Funkce f(x) = x ** 2 - 4\n",
      "Kořen nalezený pomocí metody půlení intervalu: -1.9999999999708961695432663, čas: 0.0000646129992674104869366s\n",
      "Kořen nalezený pomocí Newtonovy metody: 2.0000000000000000000000000, čas: 0.0029950699972687289118767s\n",
      "\n",
      "Funkce g(x) = x ** 3 - 2\n",
      "Kořen nalezený pomocí metody půlení intervalu: 1.2599210498156026005744934, čas: 0.0000231319936574436724186s\n",
      "Kořen nalezený pomocí Newtonovy metody: 1.2599210498948731906665444, čas: 0.0038661680009681731462479s\n",
      "\n",
      "Funkce h(x) = x ** 2 - 9\n",
      "Kořen nalezený pomocí metody půlení intervalu: 2.9999999998253770172595978, čas: 0.0000237130007008090615273s\n",
      "Kořen nalezený pomocí Newtonovy metody: 3.0000000000000000000000000, čas: 0.0011777550025726668536663s\n",
      "\n"
     ]
    }
   ],
   "execution_count": 16
  }
 ],
 "metadata": {
  "kernelspec": {
   "display_name": "Python 3",
   "language": "python",
   "name": "python3"
  },
  "language_info": {
   "codemirror_mode": {
    "name": "ipython",
    "version": 2
   },
   "file_extension": ".py",
   "mimetype": "text/x-python",
   "name": "python",
   "nbconvert_exporter": "python",
   "pygments_lexer": "ipython2",
   "version": "2.7.6"
  }
 },
 "nbformat": 4,
 "nbformat_minor": 5
}

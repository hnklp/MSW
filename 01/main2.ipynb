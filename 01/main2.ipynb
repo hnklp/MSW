{
 "cells": [
  {
   "cell_type": "code",
   "id": "initial_id",
   "metadata": {
    "collapsed": true,
    "ExecuteTime": {
     "end_time": "2024-05-14T07:52:03.939694Z",
     "start_time": "2024-05-14T07:52:03.730391Z"
    }
   },
   "source": [
    "import time\n",
    "\n",
    "def dot_product(a, b):\n",
    "    return sum(x * y for x, y in zip(a, b))\n",
    "\n",
    "# Generování velkých vektorů\n",
    "a = list(range(1000000))\n",
    "b = list(range(1000000))\n",
    "\n",
    "start_time = time.time()\n",
    "result = dot_product(a, b)\n",
    "end_time = time.time()\n",
    "\n",
    "print(\"Standardní Python: Skalární součin:\", result)\n",
    "print(\"Čas:\", end_time - start_time, \"s\")\n"
   ],
   "outputs": [
    {
     "name": "stdout",
     "output_type": "stream",
     "text": [
      "Standardní Python: Skalární součin: 333332833333500000\n",
      "Čas: 0.12497186660766602 s\n"
     ]
    }
   ],
   "execution_count": 36
  },
  {
   "metadata": {
    "ExecuteTime": {
     "end_time": "2024-05-14T07:52:01.627547Z",
     "start_time": "2024-05-14T07:52:01.402853Z"
    }
   },
   "cell_type": "code",
   "source": [
    "import time\n",
    "import numpy as np\n",
    "\n",
    "a = list(range(1000000))\n",
    "b = list(range(1000000))\n",
    "\n",
    "start_time = time.time()\n",
    "result = np.dot(a, b)\n",
    "end_time = time.time()\n",
    "\n",
    "print(\"Numpy: Skalární součin:\", result)\n",
    "print(\"Čas:\", end_time - start_time, \"s\")\n"
   ],
   "id": "4091f57a8b1a0eaf",
   "outputs": [
    {
     "name": "stdout",
     "output_type": "stream",
     "text": [
      "Numpy: Skalární součin: 584144992\n",
      "Čas: 0.1250138282775879 s\n"
     ]
    }
   ],
   "execution_count": 35
  },
  {
   "metadata": {
    "ExecuteTime": {
     "end_time": "2024-05-14T07:49:18.352565Z",
     "start_time": "2024-05-14T07:49:18.332626Z"
    }
   },
   "cell_type": "code",
   "source": [
    "import time\n",
    "import math\n",
    "import scipy.integrate as spi\n",
    "import numpy as np\n",
    "\n",
    "def trapezoidal_rule(f, a, b, n):\n",
    "    h = (b - a) / n\n",
    "    s = 0.5 * (f(a) + f(b))\n",
    "    for i in range(1, n):\n",
    "        s += f(a + i * h)\n",
    "    return s * h\n",
    "\n",
    "def f(x):\n",
    "    return math.sin(x)\n",
    "\n",
    "a, b = 0, math.pi\n",
    "n = 110000000000000\n",
    "\n",
    "#start_time = time.time()\n",
    "#result = trapezoidal_rule(f, a, b, n)\n",
    "#end_time = time.time()\n",
    "\n",
    "print(\"Standardní Python: Určitý integrál:\", result)\n",
    "print(\"Čas:\", end_time - start_time, \"s\")\n",
    "\n",
    "def f(x):\n",
    "    return np.sin(x)\n",
    "\n",
    "a, b = 0, np.pi\n",
    "\n",
    "start_time = time.time()\n",
    "result, _ = spi.quad(f, a, b)\n",
    "end_time = time.time()\n",
    "\n",
    "print(\"Scipy: Určitý integrál:\", result)\n",
    "print(\"Čas:\", end_time - start_time, \"s\")\n"
   ],
   "id": "c05d2bd8f685672f",
   "outputs": [
    {
     "name": "stdout",
     "output_type": "stream",
     "text": [
      "Standardní Python: Určitý integrál: 2.0\n",
      "Čas: 0.0 s\n",
      "Scipy: Určitý integrál: 2.0\n",
      "Čas: 0.0 s\n"
     ]
    }
   ],
   "execution_count": 27
  }
 ],
 "metadata": {
  "kernelspec": {
   "display_name": "Python 3",
   "language": "python",
   "name": "python3"
  },
  "language_info": {
   "codemirror_mode": {
    "name": "ipython",
    "version": 2
   },
   "file_extension": ".py",
   "mimetype": "text/x-python",
   "name": "python",
   "nbconvert_exporter": "python",
   "pygments_lexer": "ipython2",
   "version": "2.7.6"
  }
 },
 "nbformat": 4,
 "nbformat_minor": 5
}

{
 "cells": [
  {
   "cell_type": "code",
   "id": "initial_id",
   "metadata": {
    "collapsed": true,
    "ExecuteTime": {
     "end_time": "2024-07-15T19:31:21.588833Z",
     "start_time": "2024-07-15T19:31:21.427722Z"
    }
   },
   "source": [
    "import time\n",
    "\n",
    "def dot_product(a, b):\n",
    "    return sum(x * y for x, y in zip(a, b))\n",
    "\n",
    "# Generování velkých vektorů\n",
    "a = list(range(1000000))\n",
    "b = list(range(1000000))\n",
    "\n",
    "start_time = time.time()\n",
    "result = dot_product(a, b)\n",
    "end_time = time.time()\n",
    "\n",
    "print(\"Python - skalární součin:\", result)\n",
    "print(\"Čas:\", end_time - start_time, \"s\")\n"
   ],
   "outputs": [
    {
     "name": "stdout",
     "output_type": "stream",
     "text": [
      "Python - skalární součin: 333332833333500000\n",
      "Čas: 0.10376191139221191 s\n"
     ]
    }
   ],
   "execution_count": 5
  },
  {
   "metadata": {
    "ExecuteTime": {
     "end_time": "2024-07-15T19:31:19.493387Z",
     "start_time": "2024-07-15T19:31:19.320902Z"
    }
   },
   "cell_type": "code",
   "source": [
    "import time\n",
    "import numpy as np\n",
    "\n",
    "a = list(range(1000000))\n",
    "b = list(range(1000000))\n",
    "\n",
    "start_time = time.time()\n",
    "result = np.dot(a, b)\n",
    "end_time = time.time()\n",
    "\n",
    "print(\"Numpy - skalární součin\", result)\n",
    "print(\"Čas:\", end_time - start_time, \"s\")\n"
   ],
   "id": "4091f57a8b1a0eaf",
   "outputs": [
    {
     "name": "stdout",
     "output_type": "stream",
     "text": [
      "Numpy - skalární součin 584144992\n",
      "Čas: 0.11366486549377441 s\n"
     ]
    }
   ],
   "execution_count": 4
  },
  {
   "metadata": {
    "ExecuteTime": {
     "end_time": "2024-07-15T19:31:24.793839Z",
     "start_time": "2024-07-15T19:31:24.519173Z"
    }
   },
   "cell_type": "code",
   "source": [
    "import time\n",
    "import math\n",
    "import scipy.integrate as spi\n",
    "import numpy as np\n",
    "\n",
    "def trapezoidal_rule(f, a, b, n):\n",
    "    h = (b - a) / n\n",
    "    s = 0.5 * (f(a) + f(b))\n",
    "    for i in range(1, n):\n",
    "        s += f(a + i * h)\n",
    "    return s * h\n",
    "\n",
    "def f(x):\n",
    "    return math.sin(x)\n",
    "\n",
    "a, b = 0, math.pi\n",
    "n = 110000000000000\n",
    "\n",
    "#start_time = time.time()\n",
    "#result = trapezoidal_rule(f, a, b, n)\n",
    "#end_time = time.time()\n",
    "\n",
    "print(\"Standardní Python: Určitý integrál:\", result)\n",
    "print(\"Čas:\", end_time - start_time, \"s\")\n",
    "\n",
    "def f(x):\n",
    "    return np.sin(x)\n",
    "\n",
    "a, b = 0, np.pi\n",
    "\n",
    "start_time = time.time()\n",
    "result, _ = spi.quad(f, a, b)\n",
    "end_time = time.time()\n",
    "\n",
    "print(\"Scipy: Určitý integrál:\", result)\n",
    "print(\"Čas:\", end_time - start_time, \"s\")\n"
   ],
   "id": "c05d2bd8f685672f",
   "outputs": [
    {
     "name": "stdout",
     "output_type": "stream",
     "text": [
      "Standardní Python: Určitý integrál: 333332833333500000\n",
      "Čas: 0.10376191139221191 s\n",
      "Scipy: Určitý integrál: 2.0\n",
      "Čas: 0.001573801040649414 s\n"
     ]
    }
   ],
   "execution_count": 6
  }
 ],
 "metadata": {
  "kernelspec": {
   "display_name": "Python 3",
   "language": "python",
   "name": "python3"
  },
  "language_info": {
   "codemirror_mode": {
    "name": "ipython",
    "version": 2
   },
   "file_extension": ".py",
   "mimetype": "text/x-python",
   "name": "python",
   "nbconvert_exporter": "python",
   "pygments_lexer": "ipython2",
   "version": "2.7.6"
  }
 },
 "nbformat": 4,
 "nbformat_minor": 5
}

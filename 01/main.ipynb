{
 "cells": [
  {
   "metadata": {},
   "cell_type": "markdown",
   "source": [
    "## Výpočet faktoriálu"
   ],
   "id": "dbd3695dd2b5c63b"
  },
  {
   "cell_type": "code",
   "id": "initial_id",
   "metadata": {
    "collapsed": true,
    "ExecuteTime": {
     "end_time": "2024-07-23T16:33:05.110510Z",
     "start_time": "2024-07-23T16:33:03.050247Z"
    }
   },
   "source": [
    "import time, sympy\n",
    "\n",
    "n = 83772\n",
    "\n",
    "#Python\n",
    "start = time.perf_counter()\n",
    "\n",
    "factorial = 1\n",
    "for i in range(1, n+1):\n",
    "    factorial *= i\n",
    "\n",
    "end = time.perf_counter() - start\n",
    "\n",
    "print(f\"Výpočet (Python): \", end)\n",
    "\n",
    "#SymPy\n",
    "start = time.perf_counter()\n",
    "\n",
    "result = sympy.factorial(n)\n",
    "\n",
    "end = time.perf_counter() - start\n",
    "\n",
    "print(\"Výpočet (NumPy): \", end)"
   ],
   "outputs": [
    {
     "name": "stdout",
     "output_type": "stream",
     "text": [
      "Výpočet (Python):  1.8854195330059156\n",
      "Výpočet (NumPy):  0.1536074520117836\n"
     ]
    }
   ],
   "execution_count": 62
  },
  {
   "cell_type": "markdown",
   "source": [
    "## Výpočet sin(x)"
   ],
   "metadata": {
    "collapsed": false
   },
   "id": "7b1385449b4e627c"
  },
  {
   "metadata": {
    "ExecuteTime": {
     "end_time": "2024-07-23T16:33:46.491922Z",
     "start_time": "2024-07-23T16:33:45.861687Z"
    }
   },
   "cell_type": "code",
   "outputs": [
    {
     "name": "stdout",
     "output_type": "stream",
     "text": [
      "Čas výpočtu (Python):  0.00030469500052277\n",
      "Čas výpočtu (NumPy):   0.0011716900044120848\n",
      "Čas výpočtu (Sympy):   0.6211337630084017\n"
     ]
    }
   ],
   "execution_count": 64,
   "source": [
    "import time, math, sympy, numpy\n",
    "\n",
    "field = numpy.linspace(-5, 2, 1233)\n",
    "\n",
    "#Python\n",
    "start = time.perf_counter()\n",
    "\n",
    "for num in field:\n",
    "    math.sin(num)\n",
    "\n",
    "end = time.perf_counter() - start\n",
    "\n",
    "print(\"Čas výpočtu (Python): \", end)\n",
    "\n",
    "#NumPy\n",
    "start = time.perf_counter()\n",
    "\n",
    "for num in field:\n",
    "    numpy.sin(num)\n",
    "\n",
    "end = time.perf_counter() - start\n",
    "\n",
    "print(\"Čas výpočtu (NumPy):  \", end)\n",
    "\n",
    "#SymPy\n",
    "start = time.perf_counter()\n",
    "\n",
    "for num in field:\n",
    "    sympy.sin(num)\n",
    "\n",
    "end = time.perf_counter() - start\n",
    "\n",
    "print(\"Čas výpočtu (Sympy):  \", end)"
   ],
   "id": "c0d436ad4567af1d"
  },
  {
   "cell_type": "markdown",
   "source": [
    "## Násobení matic"
   ],
   "metadata": {
    "collapsed": false
   },
   "id": "48724dc34c1b1e5"
  },
  {
   "cell_type": "code",
   "outputs": [
    {
     "name": "stdout",
     "output_type": "stream",
     "text": [
      "Čas výpočtu (Python):  0.00018488299974706024\n",
      "Čas výpočtu (NumPy):  0.00012147700181230903\n"
     ]
    }
   ],
   "source": [
    "import time, numpy\n",
    "\n",
    "matrix = [[333, 1, 909], [22, 111, 22], [22, 22, 22]]\n",
    "\n",
    "matrix_python = [row[:] for row in matrix]\n",
    "\n",
    "#Python\n",
    "start = time.perf_counter()\n",
    "\n",
    "for i in range(len(matrix_python)):\n",
    "    for j in range(len(matrix_python[0])):\n",
    "        matrix_python[i][j] = matrix_python[i][j] * 25\n",
    "\n",
    "python_time = time.perf_counter() - start\n",
    "print(\"Čas výpočtu (Python): \", python_time)\n",
    "\n",
    "#NumPy\n",
    "matrix_numpy = numpy.array(matrix)\n",
    "\n",
    "start = time.perf_counter()\n",
    "\n",
    "result = matrix_numpy * 25\n",
    "\n",
    "numpy_time = time.perf_counter() - start\n",
    "print(\"Čas výpočtu (NumPy): \", numpy_time)"
   ],
   "metadata": {
    "collapsed": false,
    "ExecuteTime": {
     "end_time": "2024-07-23T16:34:33.028683Z",
     "start_time": "2024-07-23T16:34:33.016774Z"
    }
   },
   "id": "6b284bdcffb72b0a",
   "execution_count": 66
  },
  {
   "cell_type": "markdown",
   "source": [
    "## Výpočet faktoriálu"
   ],
   "metadata": {
    "collapsed": false
   },
   "id": "58e26732d8928c3c"
  },
  {
   "cell_type": "code",
   "outputs": [
    {
     "name": "stdout",
     "output_type": "stream",
     "text": [
      "Čas výpočtu (Python):  0.15173245201003738\n",
      "Čas výpočtu (Math):  0.01574059799895622\n"
     ]
    }
   ],
   "source": [
    "import math, time\n",
    "\n",
    "x = 23344\n",
    "v= 1\n",
    "\n",
    "#Python\n",
    "\n",
    "start = time.perf_counter()\n",
    "\n",
    "\n",
    "for i in range(1, x+1):\n",
    "    v = v * i \n",
    "\n",
    "end = time.perf_counter() - start\n",
    "\n",
    "#Math\n",
    "\n",
    "print(\"Čas výpočtu (Python): \", end)\n",
    "\n",
    "start = time.perf_counter()\n",
    "\n",
    "v = math.factorial(x)\n",
    "\n",
    "end = time.perf_counter() - start\n",
    "\n",
    "\n",
    "print(\"Čas výpočtu (Math): \", end)"
   ],
   "metadata": {
    "collapsed": false,
    "ExecuteTime": {
     "end_time": "2024-07-23T16:42:56.865673Z",
     "start_time": "2024-07-23T16:42:56.668870Z"
    }
   },
   "id": "30cfba7ccbfad310",
   "execution_count": 69
  },
  {
   "cell_type": "markdown",
   "source": [
    "## Aritmetický průměr"
   ],
   "metadata": {
    "collapsed": false
   },
   "id": "b69107e8ab5bcbdc"
  },
  {
   "cell_type": "code",
   "outputs": [
    {
     "name": "stdout",
     "output_type": "stream",
     "text": [
      "Čas výpočtu (Python):  0.031385743990540504\n",
      "Čas výpočtu (NumPy):   0.009323335994849913\n"
     ]
    }
   ],
   "source": [
    "import time, random, numpy\n",
    "\n",
    "n = 3524287\n",
    "\n",
    "#Python\n",
    "\n",
    "d = [random.random() for i in range(n)]\n",
    "\n",
    "start = time.perf_counter()\n",
    "\n",
    "mean = sum(d) / len(d)\n",
    "\n",
    "end = time.perf_counter() - start\n",
    "\n",
    "print(\"Čas výpočtu (Python): \", end)\n",
    "\n",
    "#NumPy\n",
    "\n",
    "data = numpy.array([random.random() for i in range(n)])\n",
    "\n",
    "start = time.perf_counter()\n",
    "\n",
    "mean = numpy.mean(data)\n",
    "\n",
    "end = time.perf_counter() - start\n",
    "\n",
    "print(\"Čas výpočtu (NumPy):  \", end)"
   ],
   "metadata": {
    "collapsed": false,
    "ExecuteTime": {
     "end_time": "2024-07-23T16:43:53.536963Z",
     "start_time": "2024-07-23T16:43:51.121735Z"
    }
   },
   "id": "def46d01a2b870ee",
   "execution_count": 70
  }
 ],
 "metadata": {
  "kernelspec": {
   "display_name": "Python 3",
   "language": "python",
   "name": "python3"
  },
  "language_info": {
   "codemirror_mode": {
    "name": "ipython",
    "version": 2
   },
   "file_extension": ".py",
   "mimetype": "text/x-python",
   "name": "python",
   "nbconvert_exporter": "python",
   "pygments_lexer": "ipython2",
   "version": "2.7.6"
  }
 },
 "nbformat": 4,
 "nbformat_minor": 5
}

{
 "cells": [
  {
   "metadata": {},
   "cell_type": "markdown",
   "source": "## Numpy/Python: Skalární součin dvou vektorů",
   "id": "dbd3695dd2b5c63b"
  },
  {
   "cell_type": "code",
   "id": "initial_id",
   "metadata": {
    "collapsed": true,
    "ExecuteTime": {
     "end_time": "2024-07-16T17:00:53.213656Z",
     "start_time": "2024-07-16T17:00:52.661290Z"
    }
   },
   "source": "",
   "outputs": [
    {
     "name": "stdout",
     "output_type": "stream",
     "text": [
      "Výpočet faktoriálu v čistém Pythonu: 3628800 Čas: 4.0400002035312355e-05 sekund\n",
      "Výpočet faktoriálu pomocí NumPy: 3628800 Čas: 0.00010289999772794545 sekund\n",
      "Výpočet sinusové funkce v čistém Pythonu: 0.70710678103901 Čas: 0.0004217000023345463 sekund\n",
      "Výpočet sinusové funkce pomocí NumPy: 0.7071067811865476 Čas: 4.9100002797786146e-05 sekund\n",
      "Numerická integrace v čistém Pythonu: 333283335000 Čas: 0.0008224000048357993 sekund\n",
      "Numerická integrace pomocí SciPy: 333333333333.3334 Čas: 6.330000178422779e-05 sekund\n",
      "Řešení symbolické rovnice v čistém Pythonu: [-2, 2] Čas: 0.0014341999994940124 sekund\n",
      "Řešení symbolické rovnice pomocí SymPy: [-2, 2] Čas: 0.0012349000026006252 sekund\n",
      "Maticové násobení v čistém Pythonu: Prvních 5x5 elementů\n",
      "[24.98337646142543, 28.667674865852373, 28.973735019729837, 27.37326013384556, 26.44707258399823]\n",
      "[22.21718259411654, 25.465556352285112, 25.715779745759274, 23.786998185051342, 22.95848738776888]\n",
      "[21.073001460991772, 24.01389808516461, 25.35032494979474, 24.47180207373942, 24.967033220145783]\n",
      "[20.860714099486426, 25.277109858636, 25.63966844393447, 23.989444940896416, 23.631254379575807]\n",
      "[20.98378113513177, 23.713482902999214, 25.313895521381426, 23.87560538861363, 22.731684771181648]\n",
      "Čas: 0.5307780000002822 sekund\n",
      "Maticové násobení pomocí NumPy: Prvních 5x5 elementů\n",
      "[[24.98337646 28.66767487 28.97373502 27.37326013 26.44707258]\n",
      " [22.21718259 25.46555635 25.71577975 23.78699819 22.95848739]\n",
      " [21.07300146 24.01389809 25.35032495 24.47180207 24.96703322]\n",
      " [20.8607141  25.27710986 25.63966844 23.98944494 23.63125438]\n",
      " [20.98378114 23.7134829  25.31389552 23.87560539 22.73168477]]\n",
      "Čas: 0.0003419999993639067 sekund\n"
     ]
    }
   ],
   "execution_count": 3
  },
  {
   "metadata": {},
   "cell_type": "code",
   "outputs": [],
   "execution_count": null,
   "source": "",
   "id": "c0d436ad4567af1d"
  }
 ],
 "metadata": {
  "kernelspec": {
   "display_name": "Python 3",
   "language": "python",
   "name": "python3"
  },
  "language_info": {
   "codemirror_mode": {
    "name": "ipython",
    "version": 2
   },
   "file_extension": ".py",
   "mimetype": "text/x-python",
   "name": "python",
   "nbconvert_exporter": "python",
   "pygments_lexer": "ipython2",
   "version": "2.7.6"
  }
 },
 "nbformat": 4,
 "nbformat_minor": 5
}

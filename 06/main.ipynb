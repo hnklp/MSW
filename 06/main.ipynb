{
 "cells": [
  {
   "cell_type": "code",
   "id": "initial_id",
   "metadata": {
    "collapsed": true,
    "ExecuteTime": {
     "end_time": "2024-08-12T10:31:44.092982Z",
     "start_time": "2024-08-12T10:31:43.958221Z"
    }
   },
   "source": [
    "import wave\n",
    "import numpy as np\n",
    "import random"
   ],
   "outputs": [],
   "execution_count": 1
  },
  {
   "metadata": {},
   "cell_type": "markdown",
   "source": "## Získání semínka z WAV souboru",
   "id": "689dcb1f147b44ac"
  },
  {
   "metadata": {
    "ExecuteTime": {
     "end_time": "2024-08-12T10:31:44.796054Z",
     "start_time": "2024-08-12T10:31:44.792447Z"
    }
   },
   "cell_type": "code",
   "source": [
    "def get_seed_from_wav(file_path):\n",
    "    with wave.open(file_path, 'rb') as wav_file:\n",
    "        frames = wav_file.readframes(wav_file.getnframes())\n",
    "        wave_data = np.frombuffer(frames, dtype=np.int16)\n",
    "        seed = int(np.sum(np.abs(wave_data)))\n",
    "        return seed"
   ],
   "id": "7b4c0f48891aad97",
   "outputs": [],
   "execution_count": 2
  },
  {
   "metadata": {},
   "cell_type": "markdown",
   "source": "## Generátor náhodných čísel",
   "id": "efde8576b13a03b5"
  },
  {
   "metadata": {
    "ExecuteTime": {
     "end_time": "2024-08-12T10:31:47.207436Z",
     "start_time": "2024-08-12T10:31:47.203154Z"
    }
   },
   "cell_type": "code",
   "source": [
    "def random_number_generator(seed, n, min_val, max_val):\n",
    "    random.seed(seed)\n",
    "    return [random.randint(min_val, max_val) for _ in range(n)]"
   ],
   "id": "ee609883086145ab",
   "outputs": [],
   "execution_count": 3
  },
  {
   "metadata": {},
   "cell_type": "markdown",
   "source": "## Nastavení názvu souboru pro generování a požadovaný počet čísel",
   "id": "b1b1ab01fde320e4"
  },
  {
   "metadata": {
    "ExecuteTime": {
     "end_time": "2024-08-12T10:31:49.366473Z",
     "start_time": "2024-08-12T10:31:49.362770Z"
    }
   },
   "cell_type": "code",
   "source": [
    "wav1 = 'smrt.wav'\n",
    "wav2 = 'jubilejni_den.wav'\n",
    "pocet_cisel = 5"
   ],
   "id": "7116fa6fdea9d3d6",
   "outputs": [],
   "execution_count": 4
  },
  {
   "metadata": {},
   "cell_type": "markdown",
   "source": "## Generace finálního semínka a náhodných čísel",
   "id": "605be2f8e94838a4"
  },
  {
   "metadata": {
    "ExecuteTime": {
     "end_time": "2024-08-12T10:31:51.450013Z",
     "start_time": "2024-08-12T10:31:51.420684Z"
    }
   },
   "cell_type": "code",
   "source": [
    "#Generace finálního semínka\n",
    "seed1 = get_seed_from_wav(wav1)\n",
    "seed2 = get_seed_from_wav(wav2)\n",
    "seed_f = seed1 + seed2 / np.pi * seed2 / seed1 / random.randint(10, 785410)\n",
    "print(f'Semínko: {seed_f}')\n",
    "\n",
    "#Generace náhodných čísel a jejich vypsání\n",
    "random_numbers = random_number_generator(seed_f, pocet_cisel, random.randint(4566637, 998878667), random.randint(99876545678, 456784567845678))\n",
    "print(f'Náhodná čísla: {random_numbers}')"
   ],
   "id": "5acef64eafbb7d08",
   "outputs": [
    {
     "name": "stdout",
     "output_type": "stream",
     "text": [
      "Semínko: 1947886423.1653411\n",
      "Náhodná čísla: [4196468371343, 63809371325918, 14511795297486, 56806967098246, 28088475238050]\n"
     ]
    }
   ],
   "execution_count": 5
  }
 ],
 "metadata": {
  "kernelspec": {
   "display_name": "Python 3",
   "language": "python",
   "name": "python3"
  },
  "language_info": {
   "codemirror_mode": {
    "name": "ipython",
    "version": 2
   },
   "file_extension": ".py",
   "mimetype": "text/x-python",
   "name": "python",
   "nbconvert_exporter": "python",
   "pygments_lexer": "ipython2",
   "version": "2.7.6"
  }
 },
 "nbformat": 4,
 "nbformat_minor": 5
}

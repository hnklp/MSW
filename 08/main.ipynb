{
 "cells": [
  {
   "cell_type": "code",
   "id": "initial_id",
   "metadata": {
    "collapsed": true,
    "ExecuteTime": {
     "end_time": "2024-08-12T10:27:02.269761Z",
     "start_time": "2024-08-12T10:27:02.141311Z"
    }
   },
   "source": [
    "import numpy as np\n",
    "\n",
    "\n",
    "#Definice funkce a její analytické derivace\n",
    "def f(x):\n",
    "    return np.sin(x)"
   ],
   "outputs": [],
   "execution_count": 1
  },
  {
   "metadata": {},
   "cell_type": "markdown",
   "source": "## Analytická derivace",
   "id": "9fe5722202cd2481"
  },
  {
   "metadata": {
    "ExecuteTime": {
     "end_time": "2024-08-12T10:27:04.656523Z",
     "start_time": "2024-08-12T10:27:04.652936Z"
    }
   },
   "cell_type": "code",
   "source": [
    "def f_prime_analytic(x):\n",
    "    return np.cos(x)"
   ],
   "id": "4dc94e3ca94047a0",
   "outputs": [],
   "execution_count": 2
  },
  {
   "metadata": {},
   "cell_type": "markdown",
   "source": "## Numericke derivace se statickým krokem",
   "id": "aa4b9cd0c1db9b79"
  },
  {
   "metadata": {
    "ExecuteTime": {
     "end_time": "2024-08-12T10:27:06.890819Z",
     "start_time": "2024-08-12T10:27:06.886807Z"
    }
   },
   "cell_type": "code",
   "source": [
    "def central_difference(f, x, h):\n",
    "    return (f(x + h) - f(x - h)) / (2 * h)"
   ],
   "id": "ac40b62db1b72778",
   "outputs": [],
   "execution_count": 3
  },
  {
   "metadata": {},
   "cell_type": "markdown",
   "source": "## Numerická derivace s adaptabilním krokem",
   "id": "60fe1acdea4f9495"
  },
  {
   "metadata": {
    "ExecuteTime": {
     "end_time": "2024-08-12T10:27:08.726682Z",
     "start_time": "2024-08-12T10:27:08.722599Z"
    }
   },
   "cell_type": "code",
   "source": [
    "def adaptive_difference(f, x, tol=1e-5):\n",
    "    h = 0.1\n",
    "    error = float('inf')\n",
    "\n",
    "    while error > tol:\n",
    "        central_diff1 = central_difference(f, x, h)\n",
    "        central_diff2 = central_difference(f, x, h / 2)\n",
    "\n",
    "        error = abs(central_diff1 - central_diff2)\n",
    "\n",
    "        h /= 2.0\n",
    "\n",
    "    return central_diff2"
   ],
   "id": "1ce552022b9b72f6",
   "outputs": [],
   "execution_count": 4
  },
  {
   "metadata": {},
   "cell_type": "markdown",
   "source": "## Výpočty",
   "id": "4338cd5f5df50911"
  },
  {
   "metadata": {
    "ExecuteTime": {
     "end_time": "2024-08-12T10:27:10.839654Z",
     "start_time": "2024-08-12T10:27:10.834477Z"
    }
   },
   "cell_type": "code",
   "source": [
    "#Bod, ve kterém budeme derivovat\n",
    "x = np.pi / 4\n",
    "h = 0.1\n",
    "\n",
    "# Analytická derivace\n",
    "analytic_result = f_prime_analytic(x)\n",
    "\n",
    "# Numerická derivace s pevným krokem\n",
    "fixed_step_result = central_difference(f, x, h)\n",
    "\n",
    "# Numerická derivace s adaptabilním krokem\n",
    "adaptive_result = adaptive_difference(f, x)\n",
    "\n",
    "# Výstup výsledků\n",
    "print(f\"Analytická derivace: {analytic_result}\")\n",
    "print(f\"Numerická derivace s pevným krokem: {fixed_step_result}\")\n",
    "print(f\"Numerická derivace s adaptabilním krokem: {adaptive_result}\")"
   ],
   "id": "add81fbf6399a4ce",
   "outputs": [
    {
     "name": "stdout",
     "output_type": "stream",
     "text": [
      "Analytická derivace: 0.7071067811865476\n",
      "Numerická derivace s pevným krokem: 0.7059288589999413\n",
      "Numerická derivace s adaptabilním krokem: 0.7071056302971712\n"
     ]
    }
   ],
   "execution_count": 5
  }
 ],
 "metadata": {
  "kernelspec": {
   "display_name": "Python 3",
   "language": "python",
   "name": "python3"
  },
  "language_info": {
   "codemirror_mode": {
    "name": "ipython",
    "version": 2
   },
   "file_extension": ".py",
   "mimetype": "text/x-python",
   "name": "python",
   "nbconvert_exporter": "python",
   "pygments_lexer": "ipython2",
   "version": "2.7.6"
  }
 },
 "nbformat": 4,
 "nbformat_minor": 5
}
